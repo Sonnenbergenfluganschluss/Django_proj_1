{
 "cells": [
  {
   "cell_type": "code",
   "execution_count": 1,
   "id": "8ac0d5c5",
   "metadata": {},
   "outputs": [],
   "source": [
    "import pandas as pd"
   ]
  },
  {
   "cell_type": "code",
   "execution_count": 55,
   "id": "6155f789",
   "metadata": {},
   "outputs": [],
   "source": [
    "cities = pd.read_csv('cities.csv')"
   ]
  },
  {
   "cell_type": "code",
   "execution_count": null,
   "id": "a8df10bf",
   "metadata": {},
   "outputs": [
    {
     "data": {
      "text/html": [
       "<div>\n",
       "<style scoped>\n",
       "    .dataframe tbody tr th:only-of-type {\n",
       "        vertical-align: middle;\n",
       "    }\n",
       "\n",
       "    .dataframe tbody tr th {\n",
       "        vertical-align: top;\n",
       "    }\n",
       "\n",
       "    .dataframe thead th {\n",
       "        text-align: right;\n",
       "    }\n",
       "</style>\n",
       "<table border=\"1\" class=\"dataframe\">\n",
       "  <thead>\n",
       "    <tr style=\"text-align: right;\">\n",
       "      <th></th>\n",
       "      <th>Индекс</th>\n",
       "      <th>Город</th>\n",
       "      <th>Часовой пояс</th>\n",
       "    </tr>\n",
       "  </thead>\n",
       "  <tbody>\n",
       "    <tr>\n",
       "      <th>283</th>\n",
       "      <td>249930.0</td>\n",
       "      <td>Мосальск</td>\n",
       "      <td>3</td>\n",
       "    </tr>\n",
       "    <tr>\n",
       "      <th>506</th>\n",
       "      <td>101000.0</td>\n",
       "      <td>Москва</td>\n",
       "      <td>3</td>\n",
       "    </tr>\n",
       "  </tbody>\n",
       "</table>\n",
       "</div>"
      ],
      "text/plain": [
       "       Индекс     Город  Часовой пояс\n",
       "283  249930.0  Мосальск             3\n",
       "506  101000.0    Москва             3"
      ]
     },
     "execution_count": 52,
     "metadata": {},
     "output_type": "execute_result"
    }
   ],
   "source": [
    "city = 'Мос'\n",
    "if len(cities[cities[\"Город\"].str.contains(city, regex=True).fillna(False)]) != 0:\n",
    "        raw = cities[cities[\"Город\"].str.contains(city, regex=True)][[\"Индекс\", \"Город\", \"Часовой пояс\"]]\n",
    "else:\n",
    "    print(\"Города нет в списке\")"
   ]
  },
  {
   "cell_type": "code",
   "execution_count": 54,
   "id": "a7b41d3b",
   "metadata": {},
   "outputs": [],
   "source": [
    "cities.to_csv('cities.csv', index=False)"
   ]
  }
 ],
 "metadata": {
  "kernelspec": {
   "display_name": "Python 3",
   "language": "python",
   "name": "python3"
  },
  "language_info": {
   "codemirror_mode": {
    "name": "ipython",
    "version": 3
   },
   "file_extension": ".py",
   "mimetype": "text/x-python",
   "name": "python",
   "nbconvert_exporter": "python",
   "pygments_lexer": "ipython3",
   "version": "3.9.10"
  }
 },
 "nbformat": 4,
 "nbformat_minor": 5
}
